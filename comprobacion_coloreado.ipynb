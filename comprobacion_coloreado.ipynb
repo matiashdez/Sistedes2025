{
 "cells": [
  {
   "cell_type": "markdown",
   "metadata": {},
   "source": [
    "# Cálculo del número de soluciones del coloreado de un grafo, solo 1 color por nodo"
   ]
  },
  {
   "cell_type": "code",
   "execution_count": null,
   "metadata": {},
   "outputs": [
    {
     "data": {
      "text/plain": [
       "(48, True)"
      ]
     },
     "execution_count": 1,
     "metadata": {},
     "output_type": "execute_result"
    }
   ],
   "source": [
    "import itertools\n",
    "\n",
    "# User data\n",
    "nodes = 6\n",
    "edges = [(0, 1), (1, 2), (2, 3), (1, 3), (0, 4), (2, 5)]\n",
    "colors = 3\n",
    "\n",
    "\n",
    "colorings = itertools.product(range(colors), repeat=nodes)\n",
    "\n",
    "\n",
    "def is_valid_coloring(coloring):\n",
    "    return all(coloring[u] != coloring[v] for u, v in edges)\n",
    "\n",
    "valid_count = 0\n",
    "\n",
    "for coloring in colorings:\n",
    "    if is_valid_coloring(coloring):\n",
    "        valid_count += 1\n",
    "\n",
    "# Ejemplo de uso: verificar si una coloración específica es solución\n",
    "test_coloring = (0, 1, 2, 0, 2, 1)  # Ejemplo\n",
    "is_solution = is_valid_coloring(test_coloring)\n",
    "\n",
    "valid_count, is_solution"
   ]
  },
  {
   "cell_type": "markdown",
   "metadata": {},
   "source": [
    "# Cálculo del número de soluciones del coloreado de un grafo, más de 1 color por nodo"
   ]
  },
  {
   "cell_type": "code",
   "execution_count": null,
   "metadata": {},
   "outputs": [
    {
     "data": {
      "text/plain": [
       "(126, False)"
      ]
     },
     "execution_count": 1,
     "metadata": {},
     "output_type": "execute_result"
    }
   ],
   "source": [
    "import itertools\n",
    "import numpy as np\n",
    "\n",
    "# User data\n",
    "nodes = 6\n",
    "edges = [(0, 1), (1, 2), (2, 3), (1, 3), (0, 4), (2, 5)]\n",
    "colors = 3\n",
    "\n",
    "\n",
    "colorings = itertools.product([0, 1], repeat=nodes * colors)\n",
    "\n",
    "def is_valid_coloring(coloring):\n",
    "    coloring_matrix = np.array(coloring).reshape(nodes, colors)\n",
    "    \n",
    "   \n",
    "    if not np.all(coloring_matrix.sum(axis=1) >= 1):\n",
    "        return False\n",
    "    \n",
    "\n",
    "    for u, v in edges:\n",
    "        if np.any(coloring_matrix[u] * coloring_matrix[v] == 1):\n",
    "            return False\n",
    "    \n",
    "    return True\n",
    "\n",
    "valid_count = 0\n",
    "\n",
    "for coloring in colorings:\n",
    "    if is_valid_coloring(coloring):\n",
    "        valid_count += 1\n",
    "\n",
    "# Ejemplo de uso: verificar una coloración específica (One-Hot para 6 nodos y 3 colores)\n",
    "test_coloring = [\n",
    "    1, 0, 1,  \n",
    "    0, 1, 1,  \n",
    "    1, 1, 0,  \n",
    "    1, 0, 0,  \n",
    "    0, 1, 0,  \n",
    "    0, 0, 1  \n",
    "]\n",
    "\n",
    "is_solution = is_valid_coloring(test_coloring)\n",
    "\n",
    "valid_count, is_solution"
   ]
  }
 ],
 "metadata": {
  "kernelspec": {
   "display_name": "Python 3",
   "language": "python",
   "name": "python3"
  },
  "language_info": {
   "codemirror_mode": {
    "name": "ipython",
    "version": 3
   },
   "file_extension": ".py",
   "mimetype": "text/x-python",
   "name": "python",
   "nbconvert_exporter": "python",
   "pygments_lexer": "ipython3",
   "version": "3.13.1"
  }
 },
 "nbformat": 4,
 "nbformat_minor": 2
}
